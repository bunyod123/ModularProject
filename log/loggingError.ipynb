{
 "cells": [
  {
   "cell_type": "code",
   "execution_count": 1,
   "id": "0b5d9c37",
   "metadata": {},
   "outputs": [],
   "source": [
    "import logging"
   ]
  },
  {
   "cell_type": "code",
   "execution_count": 14,
   "id": "6a7b868a",
   "metadata": {},
   "outputs": [
    {
     "name": "stderr",
     "output_type": "stream",
     "text": [
      "ERROR:root:xato boldi xato\n",
      "CRITICAL:root:dastur toxtadi\n"
     ]
    }
   ],
   "source": [
    "logging.basicConfig(level=logging.ERROR, force=True)\n",
    "logging.error(\"xato boldi xato\")\n",
    "logging.critical(\"dastur toxtadi\")\n",
    "logging.info(\"model boshlandi\")\n",
    "logging.warning(\"Bu usul yaxshi bolmaydi\")\n",
    "\n"
   ]
  },
  {
   "cell_type": "code",
   "execution_count": 18,
   "id": "b8064188",
   "metadata": {},
   "outputs": [
    {
     "name": "stdout",
     "output_type": "stream",
     "text": [
      "Faqat son kiriting!\n"
     ]
    }
   ],
   "source": [
    "try:\n",
    "    a = int(input(\"a ni kiriting: \"))\n",
    "    b = int(input(\"b ni kiriting: \"))\n",
    "    print(\"Natija:\", a / b)\n",
    "except ValueError:\n",
    "    print(\"Faqat son kiriting!\")\n",
    "except ZeroDivisionError:\n",
    "    print(\"0 ga bo‘lish mumkin emas!\")\n"
   ]
  },
  {
   "cell_type": "code",
   "execution_count": 25,
   "id": "ce2ad8d7",
   "metadata": {},
   "outputs": [],
   "source": [
    "logging.basicConfig(\n",
    "    filename=r\"C:\\Users\\bunyo\\OneDrive\\Desktop\\gitProjects\\2_week_project\\log\\loggingInfo.log\",\n",
    "    filemode=\"a\",\n",
    "    level=logging.INFO,\n",
    "    format= \"%(asctime)s-%(levelName)s-%(message)s\"\n",
    ")\n",
    "logging.info(\"Dataset yuklandi\")"
   ]
  },
  {
   "cell_type": "code",
   "execution_count": null,
   "id": "7aae05c0",
   "metadata": {},
   "outputs": [],
   "source": []
  }
 ],
 "metadata": {
  "kernelspec": {
   "display_name": "base",
   "language": "python",
   "name": "python3"
  },
  "language_info": {
   "codemirror_mode": {
    "name": "ipython",
    "version": 3
   },
   "file_extension": ".py",
   "mimetype": "text/x-python",
   "name": "python",
   "nbconvert_exporter": "python",
   "pygments_lexer": "ipython3",
   "version": "3.13.5"
  }
 },
 "nbformat": 4,
 "nbformat_minor": 5
}
